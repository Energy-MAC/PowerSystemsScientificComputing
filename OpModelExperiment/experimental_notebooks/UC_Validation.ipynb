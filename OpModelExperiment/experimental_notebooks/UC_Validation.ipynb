{
 "cells": [
  {
   "cell_type": "code",
   "execution_count": 9,
   "metadata": {},
   "outputs": [
    {
     "data": {
      "text/plain": [
       "OptimizerFactory(Cbc.Optimizer, (), Base.Iterators.Pairs{Union{},Union{},Tuple{},NamedTuple{(),Tuple{}}}())"
      ]
     },
     "execution_count": 9,
     "metadata": {},
     "output_type": "execute_result"
    }
   ],
   "source": [
    "using JuMP\n",
    "using PowerSystems\n",
    "using Cbc\n",
    "using Dates\n",
    "Cbc_optimizer = JuMP.with_optimizer(Cbc.Optimizer)"
   ]
  },
  {
   "cell_type": "code",
   "execution_count": 10,
   "metadata": {},
   "outputs": [
    {
     "data": {
      "text/plain": [
       "make_initial_conditions_from_data (generic function with 1 method)"
      ]
     },
     "execution_count": 10,
     "metadata": {},
     "output_type": "execute_result"
    }
   ],
   "source": [
    "function make_initial_conditions_from_data(sys::PowerSystems.System)\n",
    "    inital_conditions = Dict{String, Any}()\n",
    "    for gen in PowerSystems.get_components(PowerSystems.ThermalStandard, sys)\n",
    "        ini_g = Dict{Symbol, Float64}()\n",
    "        name = PowerSystems.get_name(gen)\n",
    "        ini_g[:power_output_t0] =  PowerSystems.get_activepower(gen)\n",
    "        ini_g[:unit_on_t0] = 1.0*(ini_g[:power_output_t0] > 0)\n",
    "        ini_g[:time_down_t0] =  999.0*(1.0 - (ini_g[:power_output_t0] > 0))\n",
    "        ini_g[:time_up_t0] =  999.0*(ini_g[:power_output_t0] > 0)    \n",
    "        inital_conditions[name] = ini_g\n",
    "    end\n",
    "    return inital_conditions\n",
    "end"
   ]
  },
  {
   "cell_type": "code",
   "execution_count": 11,
   "metadata": {},
   "outputs": [
    {
     "data": {
      "text/html": [
       "<h1>System</h1>\n",
       "<p><b>Base Power</b>: 100.0</p>\n",
       "<h2>Components</h2>\n",
       "<p><b>Num components</b>: 24</p>\n",
       "<table class=\"data-frame\"><thead><tr><th></th><th>ConcreteType</th><th>SuperTypes</th><th>Count</th></tr><tr><th></th><th>String</th><th>String</th><th>Int64</th></tr></thead><tbody><p>7 rows × 3 columns</p><tr><th>1</th><td>Bus</td><td>Topology &lt;: Component &lt;: PowerSystemType &lt;: InfrastructureSystemsType &lt;: Any</td><td>5</td></tr><tr><th>2</th><td>InterruptibleLoad</td><td>ControllableLoad &lt;: ElectricLoad &lt;: Injection &lt;: Device &lt;: Component &lt;: PowerSystemType &lt;: InfrastructureSystemsType &lt;: Any</td><td>1</td></tr><tr><th>3</th><td>Line</td><td>ACBranch &lt;: Branch &lt;: Device &lt;: Component &lt;: PowerSystemType &lt;: InfrastructureSystemsType &lt;: Any</td><td>6</td></tr><tr><th>4</th><td>PowerLoad</td><td>StaticLoad &lt;: ElectricLoad &lt;: Injection &lt;: Device &lt;: Component &lt;: PowerSystemType &lt;: InfrastructureSystemsType &lt;: Any</td><td>3</td></tr><tr><th>5</th><td>RenewableDispatch</td><td>RenewableGen &lt;: Generator &lt;: Injection &lt;: Device &lt;: Component &lt;: PowerSystemType &lt;: InfrastructureSystemsType &lt;: Any</td><td>3</td></tr><tr><th>6</th><td>StaticReserve</td><td>Reserve &lt;: Service &lt;: Component &lt;: PowerSystemType &lt;: InfrastructureSystemsType &lt;: Any</td><td>1</td></tr><tr><th>7</th><td>ThermalStandard</td><td>ThermalGen &lt;: Generator &lt;: Injection &lt;: Device &lt;: Component &lt;: PowerSystemType &lt;: InfrastructureSystemsType &lt;: Any</td><td>5</td></tr></tbody></table>\n",
       "\n",
       "<h2>Forecasts</h2>\n",
       "<p><b>Resolution</b>: 60 minutes</p>\n",
       "<p><b>Horizon</b>: 48</p>\n",
       "<p><b>Interval</b>: 86400000 milliseconds</p>\n",
       "<p><b>Num initial times</b>: 365</p>\n",
       "<p><b>Num forecasts</b>: 2920</p>\n",
       "<p><b>Initial Time</b>: 2020-01-01T00:00:00</p>\n",
       "<table class=\"data-frame\"><thead><tr><th></th><th>ConcreteType</th><th>SuperTypes</th><th>Count</th></tr><tr><th></th><th>String</th><th>String</th><th>Int64</th></tr></thead><tbody><p>4 rows × 3 columns</p><tr><th>1</th><td>Deterministic{InterruptibleLoad}</td><td>Forecast &lt;: InfrastructureSystemsType &lt;: Any</td><td>1</td></tr><tr><th>2</th><td>Deterministic{PowerLoad}</td><td>Forecast &lt;: InfrastructureSystemsType &lt;: Any</td><td>3</td></tr><tr><th>3</th><td>Deterministic{RenewableDispatch}</td><td>Forecast &lt;: InfrastructureSystemsType &lt;: Any</td><td>3</td></tr><tr><th>4</th><td>Deterministic{StaticReserve}</td><td>Forecast &lt;: InfrastructureSystemsType &lt;: Any</td><td>1</td></tr></tbody></table><p><b>Omitted tables for 364 initial times</b></p>\n"
      ],
      "text/plain": [
       "System\n",
       "======\n",
       "Base Power: 100.0\n",
       "\n",
       "Components\n",
       "==========\n",
       "Num components: 24\n",
       "\n",
       "7×3 DataFrames.DataFrame. Omitted printing of 2 columns\n",
       "│ Row │ ConcreteType      │\n",
       "│     │ \u001b[90mString\u001b[39m            │\n",
       "├─────┼───────────────────┤\n",
       "│ 1   │ Bus               │\n",
       "│ 2   │ InterruptibleLoad │\n",
       "│ 3   │ Line              │\n",
       "│ 4   │ PowerLoad         │\n",
       "│ 5   │ RenewableDispatch │\n",
       "│ 6   │ StaticReserve     │\n",
       "│ 7   │ ThermalStandard   │\n",
       "\n",
       "Forecasts\n",
       "=========\n",
       "Resolution: 60 minutes\n",
       "Horizon: 48\n",
       "Interval: 86400000 milliseconds\n",
       "Num initial times: 365\n",
       "Num forecasts: 2920\n",
       "\n",
       "---------------------------------\n",
       "Initial Time: 2020-01-01T00:00:00\n",
       "---------------------------------\n",
       "4×3 DataFrames.DataFrame. Omitted printing of 2 columns\n",
       "│ Row │ ConcreteType                     │\n",
       "│     │ \u001b[90mString\u001b[39m                           │\n",
       "├─────┼──────────────────────────────────┤\n",
       "│ 1   │ Deterministic{InterruptibleLoad} │\n",
       "│ 2   │ Deterministic{PowerLoad}         │\n",
       "│ 3   │ Deterministic{RenewableDispatch} │\n",
       "│ 4   │ Deterministic{StaticReserve}     │\n",
       "\n",
       "***Omitted tables for 364 initial times***\n",
       "\n"
      ]
     },
     "execution_count": 11,
     "metadata": {},
     "output_type": "execute_result"
    }
   ],
   "source": [
    "uc_system = System(\"../data/uc_system.json\")"
   ]
  },
  {
   "cell_type": "code",
   "execution_count": 16,
   "metadata": {},
   "outputs": [
    {
     "data": {
      "text/plain": [
       "Dict{String,Any} with 5 entries:\n",
       "  \"Solitude\"  => Dict(:power_output_t0=>0.0,:unit_on_t0=>0.0,:time_down_t0=>999…\n",
       "  \"Park City\" => Dict(:power_output_t0=>0.52,:unit_on_t0=>1.0,:time_down_t0=>0.…\n",
       "  \"Alta\"      => Dict(:power_output_t0=>0.52,:unit_on_t0=>1.0,:time_down_t0=>0.…\n",
       "  \"Brighton\"  => Dict(:power_output_t0=>0.0,:unit_on_t0=>0.0,:time_down_t0=>999…\n",
       "  \"Sundance\"  => Dict(:power_output_t0=>0.9237,:unit_on_t0=>1.0,:time_down_t0=>…"
      ]
     },
     "execution_count": 16,
     "metadata": {},
     "output_type": "execute_result"
    }
   ],
   "source": [
    "test_ic = make_initial_conditions_from_data(uc_system);"
   ]
  },
  {
   "cell_type": "code",
   "execution_count": 33,
   "metadata": {},
   "outputs": [
    {
     "data": {
      "text/plain": [
       "uc_model (generic function with 3 methods)"
      ]
     },
     "execution_count": 33,
     "metadata": {},
     "output_type": "execute_result"
    }
   ],
   "source": [
    "function uc_model(uc_system, optimizer, initial_conditions::Dict=Dict{String, Any}(), step::Int64=1)\n",
    "\n",
    "    m = JuMP.Model(optimizer)\n",
    "    #Time Information\n",
    "    time_periods = PowerSystems.get_forecasts_horizon(uc_system)\n",
    "    time_periods_set = 1:time_periods\n",
    "    data_first_step = PowerSystems.get_forecast_initial_times(uc_system)[step]\n",
    "    minutes_per_period = Dates.Minute(PowerSystems.get_forecasts_resolution(uc_system))/Dates.Minute(1)\n",
    "\n",
    "    # Thermal Generation\n",
    "    thermal_generators = PowerSystems.get_components(PowerSystems.ThermalStandard, uc_system)\n",
    "    gen_pwl_points = Dict(PowerSystems.get_name(g) => 1:length(g.op_cost.variable) for g in thermal_generators)\n",
    "    thermal_gen_names = [PowerSystems.get_name(g) for g in thermal_generators]\n",
    "\n",
    "    JuMP.@variable(m, cg[thermal_gen_names,time_periods_set])\n",
    "    JuMP.@variable(m, pg[thermal_gen_names,time_periods_set] >= 0)\n",
    "    JuMP.@variable(m, rg[thermal_gen_names,time_periods_set] >= 0)\n",
    "    JuMP.@variable(m, ug[thermal_gen_names,time_periods_set], binary=true)\n",
    "    JuMP.@variable(m, vg[thermal_gen_names,time_periods_set], binary=true)\n",
    "    JuMP.@variable(m, wg[thermal_gen_names,time_periods_set], binary=true)\n",
    "    JuMP.@variable(m, 0 <= lambda_lg[g in thermal_gen_names, gen_pwl_points[g], time_periods_set] <= 1)\n",
    "\n",
    "    # Renewable Generation\n",
    "    renewable_forecasts = PowerSystems.get_component_forecasts(PowerSystems.RenewableDispatch, uc_system, data_first_step)\n",
    "    renewable_gen_names = PowerSystems.get_forecast_component_name.(renewable_forecasts)\n",
    "    JuMP.@variable(m, pw[renewable_gen_names,time_periods_set] >= 0)\n",
    "\n",
    "    # Loads\n",
    "    fix_load_forecasts =  PowerSystems.get_component_forecasts(PowerSystems.PowerLoad, uc_system, data_first_step)\n",
    "\n",
    "    interruptible_load_forecasts =  PowerSystems.get_component_forecasts(PowerSystems.InterruptibleLoad, uc_system, data_first_step)\n",
    "    interruptible_load_names = PowerSystems.get_forecast_component_name.(interruptible_load_forecasts)\n",
    "    JuMP.@variable(m, pl[interruptible_load_names, time_periods_set] >= 0)\n",
    "\n",
    "    #Objective\n",
    "    JuMP.@objective(m, Min,\n",
    "    sum(\n",
    "        sum(cg[PowerSystems.get_name(g),t] +\n",
    "        (PowerSystems.get_op_cost(g) |> PowerSystems.get_fixed )*ug[PowerSystems.get_name(g),t] +\n",
    "        (PowerSystems.get_op_cost(g) |> PowerSystems.get_startup )*vg[PowerSystems.get_name(g),t] for g in thermal_generators) -\n",
    "        sum(PowerSystems.get_component(il).op_cost.variable.cost[2]*pl[PowerSystems.get_forecast_component_name(il), t] for il in interruptible_load_forecasts) -\n",
    "        sum(pw[PowerSystems.get_forecast_component_name(ren), t] for ren in renewable_forecasts)\n",
    "        for t in time_periods_set)\n",
    "        )\n",
    "\n",
    "   # Constraints for first time period that require initial conditions\n",
    "    for g in thermal_generators\n",
    "        name = PowerSystems.get_name(g)\n",
    "        gen_ini_cond = get(initial_conditions, name, Dict{Symbol, Any}())\n",
    "        power_output_t0 = get(gen_ini_cond, :power_output_t0, PowerSystems.get_activepower(g))\n",
    "        unit_on_t0 = get(initial_conditions, :unit_on_t0, 1.0*(power_output_t0 > 0))\n",
    "        time_down_t0 = get(initial_conditions, :time_down_t0, 999.0*(1.0 - (power_output_t0 > 0)))\n",
    "        time_up_t0 = get(initial_conditions, :time_up_t0, 999.0*(power_output_t0 > 0))\n",
    "        activepowerlimits = PowerSystems.get_tech(g) |> PowerSystems.get_activepowerlimits\n",
    "        time_minimum = PowerSystems.get_tech(g) |> PowerSystems.get_timelimits\n",
    "        ramplimits = PowerSystems.get_tech(g) |> PowerSystems.get_ramplimits\n",
    "\n",
    "        #Commitment Constraints\n",
    "        if unit_on_t0 > 0\n",
    "            JuMP.@constraint(m, sum( (ug[name,t]-1) for t in 1:min(time_periods, time_minimum.up - time_up_t0) ) == 0)\n",
    "        else\n",
    "           JuMP.@constraint(m, sum( ug[name,t] for t in 1:min(time_periods, time_minimum.down - time_down_t0) ) == 0)\n",
    "        end\n",
    "\n",
    "        JuMP.@constraint(m, ug[name,1] - unit_on_t0 == vg[name,1] - wg[name,1])\n",
    "\n",
    "        # Ramp Constraints\n",
    "        JuMP.@constraint(m, pg[name,1] + rg[name,1] - unit_on_t0*(power_output_t0 - activepowerlimits.min) <= ramplimits.up*minutes_per_period)\n",
    "\n",
    "        JuMP.@constraint(m, unit_on_t0*(power_output_t0 - activepowerlimits.min) - pg[name,1] <= ramplimits.down*minutes_per_period)\n",
    "\n",
    "        # Shut Down Ramp constraint.\n",
    "        JuMP.@constraint(m, unit_on_t0*(power_output_t0 - activepowerlimits.min) <= unit_on_t0*(activepowerlimits.max - activepowerlimits.min) - max(0, activepowerlimits.max - ramplimits.down*minutes_per_period)*wg[name,1])\n",
    "\n",
    "    end\n",
    "\n",
    "    for t in time_periods_set\n",
    "\n",
    "        # Energy Balance Constraint\n",
    "        JuMP.@constraint(m,\n",
    "            sum( pg[PowerSystems.get_name(g),t] + g.tech.activepowerlimits.min*ug[PowerSystems.get_name(g),t] for g in thermal_generators) +\n",
    "            sum( pw[PowerSystems.get_forecast_component_name(g),t] for g in renewable_forecasts)\n",
    "            == sum(PowerSystems.get_component(load).maxactivepower*PowerSystems.get_forecast_value(load, t) for load in fix_load_forecasts) +\n",
    "            sum(pl[PowerSystems.get_forecast_component_name(l),t] for l in interruptible_load_forecasts)\n",
    "        )\n",
    "\n",
    "        # InterruptibleLoad Upper Bound\n",
    "        for il in interruptible_load_forecasts\n",
    "            load_value = PowerSystems.get_component(il).maxactivepower*PowerSystems.get_forecast_value(il, t)\n",
    "            JuMP.set_upper_bound(pl[PowerSystems.get_forecast_component_name(il), t], load_value)\n",
    "        end\n",
    "\n",
    "        for reserve in PowerSystems.get_component_forecasts(PowerSystems.StaticReserve, uc_system, data_first_step)\n",
    "            JuMP.@constraint(m, sum(rg[PowerSystems.get_name(g),t] for g in thermal_generators) >= PowerSystems.get_component(reserve).requirement*PowerSystems.get_forecast_value(reserve, t)) # (3)\n",
    "        end\n",
    "\n",
    "         for g in thermal_generators\n",
    "            name = PowerSystems.get_name(g)\n",
    "            power_output_t0 = PowerSystems.get_activepower(g)\n",
    "            unit_on_t0 = 1.0*(power_output_t0 > 0)\n",
    "            activepowerlimits = PowerSystems.get_tech(g) |> PowerSystems.get_activepowerlimits\n",
    "            time_minimum = PowerSystems.get_tech(g) |> PowerSystems.get_timelimits\n",
    "            ramplimits = PowerSystems.get_tech(g) |> PowerSystems.get_ramplimits\n",
    "            piecewise_production = PowerSystems.get_op_cost(g) |> PowerSystems.get_variable\n",
    "\n",
    "\n",
    "            if t > 1\n",
    "                JuMP.@constraint(m, ug[name,t] - ug[name,t-1] == vg[name,t] - wg[name,t]) # (12)\n",
    "                JuMP.@constraint(m, pg[name,t] + rg[name,t] - pg[name,t-1] <= ramplimits.up*minutes_per_period) # (19)\n",
    "                JuMP.@constraint(m, pg[name,t-1] - pg[name,t] <= ramplimits.down*minutes_per_period) # (20)\n",
    "            end\n",
    "\n",
    "           if t >= time_minimum.up || t == time_periods\n",
    "                JuMP.@constraint(m, sum( vg[name,t2] for t2 in (t-min(time_minimum.up,time_periods)+1):t) <= ug[name,t])  # (13)\n",
    "            end\n",
    "\n",
    "            if t >= time_minimum.down || t == time_periods\n",
    "                JuMP.@constraint(m, sum( wg[name,t2] for t2 in (t-min(time_minimum.down,time_periods)+1):t) <= 1 - ug[name,t])  # (14)\n",
    "            end\n",
    "\n",
    "            #Shut down and Start up ramps are 3x faster than regular ramps.\n",
    "            JuMP.@constraint(m, pg[name,t] + rg[name,t] <= (activepowerlimits.max - activepowerlimits.min)*ug[name,t] - max(0, (activepowerlimits.max - 3*ramplimits.up*minutes_per_period))*vg[name,t]) # (17)\n",
    "\n",
    "            if t < time_periods\n",
    "                JuMP.@constraint(m, pg[name,t] + rg[name,t] <= (activepowerlimits.max - activepowerlimits.min)*ug[name,t]  - max(0, (activepowerlimits.max - 3*ramplimits.down*minutes_per_period))*wg[name,t+1]) # (18)\n",
    "            end\n",
    "\n",
    "            JuMP.@constraint(m, pg[name,t] == sum((piecewise_production[l][1] - piecewise_production[1][1])*lambda_lg[name,l,t] for l in gen_pwl_points[name])) # (21)\n",
    "            JuMP.@constraint(m, cg[name,t] == sum((piecewise_production[l][2] - piecewise_production[1][2])*lambda_lg[name,l,t] for l in gen_pwl_points[name])) # (22)\n",
    "            JuMP.@constraint(m, ug[name,t] == sum(lambda_lg[name,l,t] for l in gen_pwl_points[name])) # (23)\n",
    "        end\n",
    "\n",
    "        for rgen in renewable_forecasts\n",
    "            name = PowerSystems.get_forecast_component_name(rgen)\n",
    "            ub = rgen.component.tech.rating*PowerSystems.get_forecast_value(rgen,t)\n",
    "            JuMP.set_upper_bound(pw[name,t], ub)\n",
    "        end\n",
    "\n",
    "    end\n",
    "\n",
    "    return m\n",
    "\n",
    "end\n",
    "\n"
   ]
  },
  {
   "cell_type": "code",
   "execution_count": 34,
   "metadata": {},
   "outputs": [],
   "source": [
    "model = uc_model(uc_system, Cbc_optimizer, test_ic);"
   ]
  },
  {
   "cell_type": "code",
   "execution_count": 35,
   "metadata": {},
   "outputs": [
    {
     "name": "stdout",
     "output_type": "stream",
     "text": [
      "Welcome to the CBC MILP Solver \n",
      "Version: 2.9.9 \n",
      "Build Date: Dec 31 2018 \n",
      "\n",
      "command line - Cbc_C_Interface -solve -quit (default strategy 1)\n",
      "Continuous objective value is -176669 - 0.03 seconds\n",
      "Cgl0003I 4 fixed, 0 tightened bounds, 427 strengthened rows, 0 substitutions\n",
      "Cgl0003I 0 fixed, 0 tightened bounds, 151 strengthened rows, 0 substitutions\n",
      "Cgl0003I 0 fixed, 0 tightened bounds, 118 strengthened rows, 0 substitutions\n",
      "Cgl0003I 0 fixed, 0 tightened bounds, 4 strengthened rows, 0 substitutions\n",
      "Cgl0003I 0 fixed, 0 tightened bounds, 1 strengthened rows, 0 substitutions\n",
      "Cgl0004I processed model has 1291 rows, 1519 columns (564 integer (564 of which binary)) and 5514 elements\n",
      "Cbc0038I Initial state - 53 integers unsatisfied sum - 20.0328\n",
      "Cbc0038I Pass   1: suminf.    0.00000 (0) obj. -134878 iterations 246\n",
      "Cbc0038I Solution found of -134878\n",
      "Cbc0038I Relaxing continuous gives -135946\n",
      "Cbc0038I Before mini branch and bound, 511 integers at bound fixed and 678 continuous\n",
      "Cbc0038I Mini branch and bound did not improve solution (0.15 seconds)\n",
      "Cbc0038I Round again with cutoff of -140018\n",
      "Cbc0038I Pass   2: suminf.    0.48360 (23) obj. -140018 iterations 165\n",
      "Cbc0038I Pass   3: suminf.    0.47202 (25) obj. -140018 iterations 11\n",
      "Cbc0038I Pass   4: suminf.    0.00000 (0) obj. -140018 iterations 176\n",
      "Cbc0038I Solution found of -140018\n",
      "Cbc0038I Relaxing continuous gives -163781\n",
      "Cbc0038I Before mini branch and bound, 508 integers at bound fixed and 559 continuous\n",
      "Cbc0038I Mini branch and bound did not improve solution (0.19 seconds)\n",
      "Cbc0038I Freeing continuous variables gives a solution of -163781\n",
      "Cbc0038I Round again with cutoff of -166358\n",
      "Cbc0038I Reduced cost fixing fixed 89 variables on major pass 3\n",
      "Cbc0038I Pass   5: suminf.    8.24165 (44) obj. -166358 iterations 104\n",
      "Cbc0038I Pass   6: suminf.    8.24165 (44) obj. -166358 iterations 4\n",
      "Cbc0038I Pass   7: suminf.    5.25240 (46) obj. -166358 iterations 102\n",
      "Cbc0038I Pass   8: suminf.    5.25240 (46) obj. -166358 iterations 0\n",
      "Cbc0038I Pass   9: suminf.    5.62353 (47) obj. -166358 iterations 79\n",
      "Cbc0038I Pass  10: suminf.    5.62353 (47) obj. -166358 iterations 0\n",
      "Cbc0038I Pass  11: suminf.    4.00245 (52) obj. -166358 iterations 28\n",
      "Cbc0038I Pass  12: suminf.    4.00245 (52) obj. -166358 iterations 0\n",
      "Cbc0038I Pass  13: suminf.    7.67724 (48) obj. -166358 iterations 69\n",
      "Cbc0038I Pass  14: suminf.    6.00557 (57) obj. -166358 iterations 38\n",
      "Cbc0038I Pass  15: suminf.    4.00245 (52) obj. -166358 iterations 34\n",
      "Cbc0038I Pass  16: suminf.    8.33962 (50) obj. -166358 iterations 71\n",
      "Cbc0038I Pass  17: suminf.    6.36925 (49) obj. -166358 iterations 47\n",
      "Cbc0038I Pass  18: suminf.    4.54825 (41) obj. -166358 iterations 82\n",
      "Cbc0038I Pass  19: suminf.    4.00245 (52) obj. -166358 iterations 14\n",
      "Cbc0038I Pass  20: suminf.    6.79356 (49) obj. -166358 iterations 29\n",
      "Cbc0038I Pass  21: suminf.    6.00557 (57) obj. -166358 iterations 17\n",
      "Cbc0038I Pass  22: suminf.    4.00245 (52) obj. -166358 iterations 33\n",
      "Cbc0038I Pass  23: suminf.   14.77016 (51) obj. -166358 iterations 144\n",
      "Cbc0038I Pass  24: suminf.   13.11829 (62) obj. -166358 iterations 64\n",
      "Cbc0038I Pass  25: suminf.   15.69831 (51) obj. -166358 iterations 95\n",
      "Cbc0038I Pass  26: suminf.   15.32992 (53) obj. -166358 iterations 8\n",
      "Cbc0038I Pass  27: suminf.   13.28039 (60) obj. -166358 iterations 99\n",
      "Cbc0038I Pass  28: suminf.   13.28039 (60) obj. -166358 iterations 0\n",
      "Cbc0038I Pass  29: suminf.   12.91772 (51) obj. -166358 iterations 57\n",
      "Cbc0038I Pass  30: suminf.   12.91772 (51) obj. -166358 iterations 5\n",
      "Cbc0038I Pass  31: suminf.   14.10391 (50) obj. -166358 iterations 21\n",
      "Cbc0038I Pass  32: suminf.   12.63679 (49) obj. -166358 iterations 17\n",
      "Cbc0038I Pass  33: suminf.   18.24828 (56) obj. -166358 iterations 99\n",
      "Cbc0038I Pass  34: suminf.   22.89200 (69) obj. -166358 iterations 166\n",
      "Cbc0038I No solution found this major pass\n",
      "Cbc0038I Before mini branch and bound, 450 integers at bound fixed and 541 continuous\n",
      "Cbc0038I Mini branch and bound did not improve solution (0.33 seconds)\n",
      "Cbc0038I After 0.33 seconds - Feasibility pump exiting with objective of -163781 - took 0.20 seconds\n",
      "Cbc0012I Integer solution of -163780.68 found by feasibility pump after 0 iterations and 0 nodes (0.34 seconds)\n",
      "Cbc0038I Full problem 1291 rows 1519 columns, reduced to 726 rows 957 columns - 20 fixed gives 692, 934 - still too large\n",
      "Cbc0038I Full problem 1291 rows 1519 columns, reduced to 676 rows 934 columns - too large\n",
      "Cbc0012I Integer solution of -163792.98 found by DiveCoefficient after 966 iterations and 0 nodes (0.60 seconds)\n",
      "Cbc0031I 37 added rows had average density of 27.486486\n",
      "Cbc0013I At root node, 37 cuts changed objective from -176668.93 to -163793.15 in 10 passes\n",
      "Cbc0014I Cut generator 0 (Probing) - 35 row cuts average 5.5 elements, 0 column cuts (0 active)  in 0.017 seconds - new frequency is 1\n",
      "Cbc0014I Cut generator 1 (Gomory) - 93 row cuts average 96.9 elements, 0 column cuts (0 active)  in 0.011 seconds - new frequency is 1\n",
      "Cbc0014I Cut generator 2 (Knapsack) - 3 row cuts average 15.3 elements, 0 column cuts (0 active)  in 0.029 seconds - new frequency is -100\n",
      "Cbc0014I Cut generator 3 (Clique) - 0 row cuts average 0.0 elements, 0 column cuts (0 active)  in 0.001 seconds - new frequency is -100\n",
      "Cbc0014I Cut generator 4 (MixedIntegerRounding2) - 92 row cuts average 5.7 elements, 0 column cuts (0 active)  in 0.007 seconds - new frequency is 1\n",
      "Cbc0014I Cut generator 5 (FlowCover) - 41 row cuts average 4.6 elements, 0 column cuts (0 active)  in 0.018 seconds - new frequency is 1\n",
      "Cbc0014I Cut generator 6 (TwoMirCuts) - 407 row cuts average 49.0 elements, 0 column cuts (0 active)  in 0.055 seconds - new frequency is 1\n",
      "Cbc0010I After 0 nodes, 1 on tree, -163792.98 best solution, best possible -163793.15 (0.63 seconds)\n",
      "Cbc0016I Integer solution of -163793.15 found by strong branching after 990 iterations and 3 nodes (0.79 seconds)\n",
      "Cbc0001I Search completed - best objective -163793.1473741852, took 1309 iterations and 6 nodes (0.81 seconds)\n",
      "Cbc0032I Strong branching done 68 times (2150 iterations), fathomed 1 nodes and fixed 1 variables\n",
      "Cbc0035I Maximum depth 2, 247 variables fixed on reduced cost\n",
      "Cuts at root node changed objective from -176669 to -163793\n",
      "Probing was tried 15 times and created 45 cuts of which 0 were active after adding rounds of cuts (0.021 seconds)\n",
      "Gomory was tried 15 times and created 93 cuts of which 0 were active after adding rounds of cuts (0.013 seconds)\n",
      "Knapsack was tried 10 times and created 3 cuts of which 0 were active after adding rounds of cuts (0.029 seconds)\n",
      "Clique was tried 10 times and created 0 cuts of which 0 were active after adding rounds of cuts (0.001 seconds)\n",
      "MixedIntegerRounding2 was tried 15 times and created 92 cuts of which 0 were active after adding rounds of cuts (0.011 seconds)\n",
      "FlowCover was tried 15 times and created 41 cuts of which 0 were active after adding rounds of cuts (0.027 seconds)\n",
      "TwoMirCuts was tried 15 times and created 407 cuts of which 0 were active after adding rounds of cuts (0.060 seconds)\n",
      "\n",
      "Result - Optimal solution found\n",
      "\n",
      "Objective value:                -163793.14737419\n",
      "Enumerated nodes:               6\n",
      "Total iterations:               1309\n",
      "Time (CPU seconds):             0.84\n",
      "Time (Wallclock seconds):       1.96\n",
      "\n",
      "Total time (CPU seconds):       0.84   (Wallclock seconds):       2.19\n",
      "\n"
     ]
    }
   ],
   "source": [
    "optimize!(model)"
   ]
  },
  {
   "cell_type": "code",
   "execution_count": null,
   "metadata": {},
   "outputs": [],
   "source": [
    "\n",
    "\n",
    "for name in parameter.axes[1]\n",
    "    param_status = PJ.value(parameter[name])\n",
    "    if c.value[name][:status] == param_status\n",
    "        c.value[name][:count] += 1.0\n",
    "    elseif c.value[name][:status] != param_status\n",
    "        c.value[name][:count] = 1.0\n",
    "        c.value[name][:status] = param_status\n",
    "    end\n",
    "end"
   ]
  },
  {
   "cell_type": "code",
   "execution_count": 38,
   "metadata": {},
   "outputs": [
    {
     "ename": "UndefVarError",
     "evalue": "UndefVarError: pg not defined",
     "output_type": "error",
     "traceback": [
      "UndefVarError: pg not defined",
      "",
      "Stacktrace:",
      " [1] top-level scope at ./In[38]:4"
     ]
    }
   ],
   "source": [
    "t = 1\n",
    "\n",
    "\n",
    "    "
   ]
  },
  {
   "cell_type": "code",
   "execution_count": null,
   "metadata": {},
   "outputs": [],
   "source": []
  }
 ],
 "metadata": {
  "kernelspec": {
   "display_name": "Julia 1.2.0",
   "language": "julia",
   "name": "julia-1.2"
  },
  "language_info": {
   "file_extension": ".jl",
   "mimetype": "application/julia",
   "name": "julia",
   "version": "1.2.0"
  }
 },
 "nbformat": 4,
 "nbformat_minor": 2
}
